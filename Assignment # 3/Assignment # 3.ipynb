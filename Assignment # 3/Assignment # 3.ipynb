{
 "cells": [
  {
   "cell_type": "markdown",
   "id": "6e1f29a4",
   "metadata": {},
   "source": [
    "1. # Write a Python program to print the following string in a specific format (see the output)"
   ]
  },
  {
   "cell_type": "code",
   "execution_count": 7,
   "id": "cea5d5c4",
   "metadata": {},
   "outputs": [
    {
     "name": "stdout",
     "output_type": "stream",
     "text": [
      "Twinkle, twinkle, little star,\n",
      "        How I wonder what you are!\n",
      "                Up above the world so high,\n",
      "                Like a diamond in the sky.\n",
      "Twinkle, twinkle, little star,\n",
      "        How I wonder what you are\n"
     ]
    }
   ],
   "source": [
    "print('''Twinkle, twinkle, little star,\n",
    "        How I wonder what you are!\n",
    "                Up above the world so high,\n",
    "                Like a diamond in the sky.\n",
    "Twinkle, twinkle, little star,\n",
    "        How I wonder what you are''')"
   ]
  },
  {
   "cell_type": "markdown",
   "id": "ce0f0583",
   "metadata": {},
   "source": [
    "2. # Write a Python program to get the Python version your are using"
   ]
  },
  {
   "cell_type": "code",
   "execution_count": 13,
   "id": "5cd2ea29",
   "metadata": {},
   "outputs": [
    {
     "name": "stdout",
     "output_type": "stream",
     "text": [
      "3.8.8\n"
     ]
    }
   ],
   "source": [
    "from platform import python_version\n",
    "print(python_version())"
   ]
  },
  {
   "cell_type": "markdown",
   "id": "95375a18",
   "metadata": {},
   "source": [
    "3. # Write a Python program to display the current date and time"
   ]
  },
  {
   "cell_type": "code",
   "execution_count": 24,
   "id": "b15a0cda",
   "metadata": {},
   "outputs": [
    {
     "name": "stdout",
     "output_type": "stream",
     "text": [
      "The Current date time when I am doing assignment is : 2021-10-22 13:25:41.424050\n"
     ]
    }
   ],
   "source": [
    "import datetime as dt\n",
    "current_date_time_today = dt.datetime.today()\n",
    "print(\"The Current date time when I am doing assignment is :\", current_date_time_today)"
   ]
  },
  {
   "cell_type": "markdown",
   "id": "8ada7688",
   "metadata": {},
   "source": [
    "4. # Write the Python program which accepts the radius of a circle from the user and compute the area"
   ]
  },
  {
   "cell_type": "code",
   "execution_count": 25,
   "id": "116e3135",
   "metadata": {},
   "outputs": [
    {
     "name": "stdout",
     "output_type": "stream",
     "text": [
      "Please enter the radius of the circle: 12\n",
      "The area of the circle is: 452.3893421169302\n"
     ]
    }
   ],
   "source": [
    "from math import pi\n",
    "radius = float(input(\"Please enter the radius of the circle: \"))\n",
    "area = (pi * radius**2)\n",
    "print(f\"The area of the circle is: {area}\" )"
   ]
  },
  {
   "cell_type": "markdown",
   "id": "c1ec0e50",
   "metadata": {},
   "source": [
    "5. # Write a Python program which accepts the user's first and last name and print them in reverse order with a space between them."
   ]
  },
  {
   "cell_type": "code",
   "execution_count": 1,
   "id": "69d43455",
   "metadata": {},
   "outputs": [
    {
     "name": "stdout",
     "output_type": "stream",
     "text": [
      "Hasnain  Muhammad  Haroon ul \n"
     ]
    }
   ],
   "source": [
    "firstName = \"Muhammad \"\n",
    "middleName = \"Haroon ul \"\n",
    "lastName = \"Hasnain \"\n",
    "print(lastName + \" \" + firstName + \" \" + middleName)"
   ]
  },
  {
   "cell_type": "markdown",
   "id": "33141f74",
   "metadata": {},
   "source": [
    "6. # Write a python program which takes two inputs from user and print them addition"
   ]
  },
  {
   "cell_type": "code",
   "execution_count": 7,
   "id": "92d3f75f",
   "metadata": {},
   "outputs": [
    {
     "name": "stdout",
     "output_type": "stream",
     "text": [
      "Enter the num1: 41\n",
      "Enter the num2: 67\n",
      "Sum of the above Numbers is: 108\n"
     ]
    }
   ],
   "source": [
    "num1 = int(input(\"Enter the num1: \"))\n",
    "num2 = int(input(\"Enter the num2: \"))\n",
    "Sum = (num1 + num2)\n",
    "print(\"Sum of the above Numbers is: \" + str(Sum))"
   ]
  },
  {
   "cell_type": "markdown",
   "id": "70a846b3",
   "metadata": {},
   "source": [
    "7. # Write a program which takes 5 inputs from user for different subject’s marks, total it and generate mark sheet using grades ?"
   ]
  },
  {
   "cell_type": "code",
   "execution_count": 8,
   "id": "0e261838",
   "metadata": {},
   "outputs": [
    {
     "name": "stdout",
     "output_type": "stream",
     "text": [
      "What are your marks in English: 95\n",
      "What are your marks in C_Science: 82\n",
      "What are your marks in Physics: 67\n",
      "What are your marks in Chemistry: 54\n",
      "What are your marks in Mathematics: 73\n",
      "Grade: C\n"
     ]
    }
   ],
   "source": [
    "English = int(input(\"What are your marks in English: \"))\n",
    "C_Science = int(input(\"What are your marks in C_Science: \"))\n",
    "Physics = int(input(\"What are your marks in Physics: \"))\n",
    "Chemistry = int(input(\"What are your marks in Chemistry: \"))\n",
    "Mathematics = int(input(\"What are your marks in Mathematics: \"))\n",
    "avg_Grade = (English + C_Science + Physics + Chemistry + Mathematics)/5\n",
    "if avg_Grade >= 90:\n",
    "    print(\"Grade: A\")\n",
    "elif avg_Grade >= 80 and avg_Grade < 90:\n",
    "    print(\"Grade: B\")\n",
    "elif avg_Grade >= 64 and avg_Grade < 80:\n",
    "    print(\"Grade: C\")\n",
    "elif avg_Grade >= 50 and avg_Grade < 64:\n",
    "    print(\"Grade: D\")\n",
    "elif avg_Grade >= 40 and avg_Grade < 50:\n",
    "    print(\"Retake your Exam\")\n",
    "else:\n",
    "    print(\"Grade: F\")"
   ]
  },
  {
   "cell_type": "code",
   "execution_count": null,
   "id": "f1b61e20",
   "metadata": {},
   "outputs": [],
   "source": [
    "8. # Write a program which take input from user and identify that the given number is even or odd?"
   ]
  },
  {
   "cell_type": "code",
   "execution_count": 10,
   "id": "9fc7052e",
   "metadata": {},
   "outputs": [
    {
     "name": "stdout",
     "output_type": "stream",
     "text": [
      "Enter the number to check: 45\n",
      "Num is Odd\n"
     ]
    }
   ],
   "source": [
    "Num = int(input(\"Enter the number to check: \"))\n",
    "if Num % 2 == 0:\n",
    "    print(\"Num is Even\")\n",
    "else:\n",
    "    print(\"Num is Odd\")"
   ]
  },
  {
   "cell_type": "markdown",
   "id": "8f503c53",
   "metadata": {},
   "source": [
    "9. # Write a program which print the length of the list?"
   ]
  },
  {
   "cell_type": "code",
   "execution_count": 11,
   "id": "079388d0",
   "metadata": {},
   "outputs": [
    {
     "name": "stdout",
     "output_type": "stream",
     "text": [
      "22\n"
     ]
    }
   ],
   "source": [
    "myList = [\"Apple\", \"Mango\", \"Orange\", \"Grapes\", \"Pears\", \"Banana\", \"Guava\", \"Strawberry\", \"Kiwi\", \"Pigeon\", \"Bird\", \"Buffalo\", \"Cow\", \"Cat\", \"Horse\", \"Potato\", \"Onion\", \"1007\", \"24,69\", \"669\", \"Cabbage\", \"Bringle\"]\n",
    "print(len(myList))"
   ]
  },
  {
   "cell_type": "markdown",
   "id": "e6bd7957",
   "metadata": {},
   "source": [
    "10. # Write a Python program to sum all the numeric items in a list?"
   ]
  },
  {
   "cell_type": "code",
   "execution_count": 12,
   "id": "ea03adce",
   "metadata": {},
   "outputs": [
    {
     "name": "stdout",
     "output_type": "stream",
     "text": [
      "519\n"
     ]
    }
   ],
   "source": [
    "List_of_Sum = [24, 46, 76, 98, 14, 49, 42, 59, 20, 35, 56]\n",
    "print(sum(List_of_Sum))"
   ]
  },
  {
   "cell_type": "markdown",
   "id": "14311577",
   "metadata": {},
   "source": [
    "11. # Write a Python program to get the largest number from a numeric list."
   ]
  },
  {
   "cell_type": "code",
   "execution_count": 13,
   "id": "ccdd7e80",
   "metadata": {},
   "outputs": [
    {
     "name": "stdout",
     "output_type": "stream",
     "text": [
      "248\n"
     ]
    }
   ],
   "source": [
    "List1 = [24, 65, 48, 79, 62, 109, 35, 71, 84, 248, 15, 38, 30, 143, 9, 42, 3]\n",
    "print(max(List1))"
   ]
  },
  {
   "cell_type": "markdown",
   "id": "9ac5bf18",
   "metadata": {},
   "source": [
    "12. # Take a list, say for example this one:\n",
    "a = [1, 1, 2, 3, 5, 8, 13, 21, 34, 55, 89]\n",
    "Write a program that prints out all the elements of the list that are less than 5."
   ]
  },
  {
   "cell_type": "code",
   "execution_count": 23,
   "id": "14465eb8",
   "metadata": {},
   "outputs": [
    {
     "name": "stdout",
     "output_type": "stream",
     "text": [
      "1\n",
      "1\n",
      "2\n",
      "3\n"
     ]
    }
   ],
   "source": [
    "List = [1, 1, 2, 3, 5, 8, 13, 21, 34, 55, 89]\n",
    "for i in List:\n",
    "    if i < 5:\n",
    "        print(i)"
   ]
  }
 ],
 "metadata": {
  "kernelspec": {
   "display_name": "Python 3",
   "language": "python",
   "name": "python3"
  },
  "language_info": {
   "codemirror_mode": {
    "name": "ipython",
    "version": 3
   },
   "file_extension": ".py",
   "mimetype": "text/x-python",
   "name": "python",
   "nbconvert_exporter": "python",
   "pygments_lexer": "ipython3",
   "version": "3.8.8"
  }
 },
 "nbformat": 4,
 "nbformat_minor": 5
}
